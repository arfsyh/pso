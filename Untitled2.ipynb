{
 "cells": [
  {
   "cell_type": "code",
   "execution_count": null,
   "metadata": {},
   "outputs": [],
   "source": [
    "from main import PSOxBackpro\n",
    "from random import random\n",
    "import pandas as pd\n",
    "from matplotlib import pyplot as plt"
   ]
  },
  {
   "cell_type": "code",
   "execution_count": null,
   "metadata": {},
   "outputs": [],
   "source": [
    "dataset = pd.read_csv('data.csv')\n",
    "dataset_value = dataset.iloc[:, 1].values\n",
    "\n",
    "normalized_dataset = list()\n",
    "for x in range(len(dataset_value)):\n",
    "    norm_value = (dataset_value[x] - min(dataset_value)) / (\n",
    "        max(dataset_value) - min(dataset_value))\n",
    "    normalized_dataset.append(norm_value)\n",
    "\n",
    "time_series_dataset = [\n",
    "    normalized_dataset[:len(normalized_dataset) - 5],\n",
    "    normalized_dataset[1:len(normalized_dataset) - 4],\n",
    "    normalized_dataset[2:len(normalized_dataset) - 3],\n",
    "    normalized_dataset[3:len(normalized_dataset) - 2],\n",
    "    normalized_dataset[4:len(normalized_dataset) - 1],\n",
    "    normalized_dataset[5:]]\n",
    "\n",
    "print(\"Time Series\")\n",
    "print(pd.DataFrame([list(i) for i in zip(*time_series_dataset)]))\n",
    "\n",
    "df = pd.DataFrame([list(i) for i in zip(*time_series_dataset)])\n",
    "\n",
    "\n",
    "X_train = df.iloc[:, :5]\n",
    "Y_train = df.iloc[:, 5]\n",
    "X_test = df.iloc[:, :5]\n",
    "Y_test = df.iloc[:, 5]\n",
    "\n",
    "max_val = 1292.0\n",
    "min_val = 538.0"
   ]
  },
  {
   "cell_type": "code",
   "execution_count": null,
   "metadata": {},
   "outputs": [],
   "source": [
    "g_best_fitness = []\n",
    "average_fitness = []\n",
    "\n",
    "iter_param_test = [20, 40, 60, 80]\n",
    "pso_backpp = PSOxBackpro(pop_size=10, particle_size=15, k=1)\n",
    "pso_backpp.set_backpro_param(X_train, Y_train, X_test, Y_test, max_val, min_val, epoch=40)    \n",
    "for iterasi in range(len(iter_param_test)):\n",
    "    g_best_fitness_temp = 0\n",
    "    average_fitness_temp = 0\n",
    "    for i in range(3):\n",
    "        print('.',end=' ')\n",
    "        pso_backpp.initPops()\n",
    "        gbest_fitness, avg_fitness = pso_backpp.optimize(\n",
    "            iter_param_test[iterasi], 1, 1, 1)\n",
    "        g_best_fitness_temp += gbest_fitness\n",
    "        average_fitness_temp += avg_fitness\n",
    "    print(f\"\\nIter param test for {iter_param_test[iterasi]} is complete\")\n",
    "    g_best_fitness.append(g_best_fitness_temp / 3)\n",
    "    average_fitness.append(average_fitness_temp / 3)\n",
    "\n",
    "\n",
    "fig, ax = plt.subplots()\n",
    "ax.plot(iter_param_test, average_fitness, label=\"Average Fitness\")\n",
    "ax.plot(iter_param_test, g_best_fitness, label=\"Best Fitness\")\n",
    "ax.legend(loc=\"upper right\")\n",
    "\n",
    "ax.set(xlabel='iteration size (t)', ylabel='average fitness (accuracy)',\n",
    "       title='Iteration Test')\n",
    "ax.grid()\n",
    "\n",
    "fig.savefig(\"result/iter_test.png\")\n",
    "\n",
    "plt.show()"
   ]
  },
  {
   "cell_type": "code",
   "execution_count": null,
   "metadata": {},
   "outputs": [],
   "source": []
  }
 ],
 "metadata": {
  "kernelspec": {
   "display_name": "Python 3",
   "language": "python",
   "name": "python3"
  },
  "language_info": {
   "codemirror_mode": {
    "name": "ipython",
    "version": 3
   },
   "file_extension": ".py",
   "mimetype": "text/x-python",
   "name": "python",
   "nbconvert_exporter": "python",
   "pygments_lexer": "ipython3",
   "version": "3.7.1"
  }
 },
 "nbformat": 4,
 "nbformat_minor": 2
}
